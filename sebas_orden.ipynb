{
 "cells": [
  {
   "cell_type": "code",
   "execution_count": 1,
   "metadata": {},
   "outputs": [
    {
     "data": {
      "text/plain": [
       "{'b': [2, 34, 56, 334], 'a': [5, 12, 23, 34], 'c': [34], 'd': [3, 32]}"
      ]
     },
     "execution_count": 1,
     "metadata": {},
     "output_type": "execute_result"
    }
   ],
   "source": [
    "from collections import OrderedDict\n",
    "#se crea una lista con las llaves que seran ordenadas\n",
    "a=[\n",
    "    \"b/34\",\n",
    "    \"b/56\",\n",
    "    \"b/2\",\n",
    "    \"b/334\",\n",
    "    \"a/12\",\n",
    "    \"a/23\",\n",
    "    \"a/34\",\n",
    "    \"a/5\",\n",
    "    \"c/34\",\n",
    "    \"d/32\",\n",
    "    \"d/3\",\n",
    "]\n",
    "    \n",
    "#se crea el diccionario donde se agregaran las llaves\n",
    "b={}\n",
    "for i in a:\n",
    "    letter,number =i.split('/')#separa la cadena en numero y letra donde el separador es \"/\" donde letter es la letra y number es el numero y su sintaxis es letter \"/\" number\n",
    "    number=int(number)#se convierte cada elemento de la lista number en un numero para poder ser ordenado\n",
    "#se utiliza una condicional para agregar los numeros a una lista en base a si tiene la misma letra o mismo grupo\n",
    "    if letter in b:\n",
    "        b[letter].append(number)   \n",
    "    else:\n",
    "        b[letter]=[number]\n",
    "for i in b:\n",
    "    b[i].sort()   #se ordenan los elementos de la listas que componen el diccionario\n",
    "b\n"
   ]
  },
  {
   "cell_type": "code",
   "execution_count": null,
   "metadata": {},
   "outputs": [],
   "source": [
    "\n"
   ]
  },
  {
   "cell_type": "code",
   "execution_count": 3,
   "metadata": {},
   "outputs": [
    {
     "name": "stdout",
     "output_type": "stream",
     "text": [
      "{'b': [2, 34, 56, 334], 'a': [5, 12, 23, 34], 'c': [34], 'd': [3, 32]}\n"
     ]
    }
   ],
   "source": [
    "result=OrderedDict()\n",
    "keys =list(b.keys())#se obtienen la llaves b,a,c,d\n",
    "for key in keys:     #se asigna el valor de la llave del diccionario en base a las llaves  pero este segmento del codigo\n",
    "                     #es incorrecto ya que se intenta ordenar el diccionaro con base en las llaves \n",
    "    result[key]=b[key]\n",
    "print(dict(result))"
   ]
  },
  {
   "cell_type": "code",
   "execution_count": 4,
   "metadata": {},
   "outputs": [
    {
     "name": "stdout",
     "output_type": "stream",
     "text": [
      "{'a': [5, 12, 23, 34], 'b': [2, 34, 56, 334], 'c': [34], 'd': [3, 32]}\n"
     ]
    }
   ],
   "source": [
    "result=OrderedDict(sorted(b.items())) #se crea un ordereddict donde se van a ordenar las llaves y\n",
    "                                      #se utiliza sorted para ordenarla en base a las llaves a,b,c,d\n",
    "print(dict(result))\n"
   ]
  },
  {
   "cell_type": "code",
   "execution_count": null,
   "metadata": {},
   "outputs": [],
   "source": []
  },
  {
   "cell_type": "code",
   "execution_count": null,
   "metadata": {},
   "outputs": [],
   "source": []
  },
  {
   "cell_type": "code",
   "execution_count": null,
   "metadata": {},
   "outputs": [],
   "source": []
  },
  {
   "cell_type": "code",
   "execution_count": null,
   "metadata": {},
   "outputs": [],
   "source": []
  },
  {
   "cell_type": "code",
   "execution_count": null,
   "metadata": {},
   "outputs": [],
   "source": []
  },
  {
   "cell_type": "code",
   "execution_count": null,
   "metadata": {},
   "outputs": [],
   "source": []
  },
  {
   "cell_type": "code",
   "execution_count": null,
   "metadata": {},
   "outputs": [],
   "source": []
  },
  {
   "cell_type": "code",
   "execution_count": null,
   "metadata": {},
   "outputs": [],
   "source": []
  }
 ],
 "metadata": {
  "kernelspec": {
   "display_name": "Python 3",
   "language": "python",
   "name": "python3"
  },
  "language_info": {
   "codemirror_mode": {
    "name": "ipython",
    "version": 3
   },
   "file_extension": ".py",
   "mimetype": "text/x-python",
   "name": "python",
   "nbconvert_exporter": "python",
   "pygments_lexer": "ipython3",
   "version": "3.7.3"
  }
 },
 "nbformat": 4,
 "nbformat_minor": 2
}
